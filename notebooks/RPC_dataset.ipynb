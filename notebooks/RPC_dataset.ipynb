{
 "cells": [
  {
   "cell_type": "code",
   "execution_count": null,
   "metadata": {},
   "outputs": [],
   "source": [
    "%load_ext autoreload\n",
    "%autoreload 2\n",
    "import urllib\n",
    "from pathlib import Path\n",
    "from poif.dataset.base import Dataset\n",
    "from poif.dataset.operation.transform_and_split.coco import MultiCoco\n",
    "from poif.tagged_data.disk import DiskData\n",
    "from poif.versioning.dataset import FromDiskVersionedCollection"
   ]
  },
  {
   "cell_type": "code",
   "execution_count": null,
   "metadata": {},
   "outputs": [],
   "source": [
    "from poif.dataset.operation.transform.detection import DetectionToClassification\n",
    "from poif.dataset.operation.transform_and_split.coco import MultiCoco\n",
    "from poif.tagged_data.disk import DiskData\n",
    "from poif.dataset.operation.transform.sampler import LimitSamplesByBin\n",
    "\n",
    "ds_loc = Path(\"/home/gilles/datasets/retail_product_checkout\")\n",
    "tagged_data = DiskData.from_folder(ds_loc)\n",
    "\n",
    "annotation_files = {\n",
    "    \"train\": \"instances_train2019.json\",\n",
    "    \"val\": \"instances_val2019.json\",\n",
    "    \"test\": \"instances_test2019.json\",\n",
    "}\n",
    "\n",
    "data_folders = {\"train\": \"train2019\", \"val\": \"val2019\", \"test\": \"test2019\"}\n",
    "\n",
    "coco_transform = MultiCoco(annotation_files=annotation_files, data_folders=data_folders)\n",
    "limiter = LimitSamplesByBin(sample_limit=10, bin_creator=lambda x: x.label)\n",
    "operations = [coco_transform, DetectionToClassification(), limiter]\n",
    "ds = Dataset(operations=operations)\n",
    "ds.form(tagged_data)\n"
   ]
  },
  {
   "cell_type": "code",
   "execution_count": null,
   "metadata": {
    "pycharm": {
     "name": "#%%\n"
    }
   },
   "outputs": [],
   "source": [
    "import matplotlib.pyplot as plt"
   ]
  },
  {
   "cell_type": "code",
   "execution_count": null,
   "metadata": {},
   "outputs": [],
   "source": [
    "ds.train[0]"
   ]
  },
  {
   "cell_type": "code",
   "execution_count": null,
   "metadata": {},
   "outputs": [],
   "source": [
    "plt.imshow(ds.train[0][0])"
   ]
  },
  {
   "cell_type": "code",
   "execution_count": null,
   "metadata": {},
   "outputs": [],
   "source": []
  }
 ],
 "metadata": {
  "kernelspec": {
   "display_name": "Python [conda env:poif] *",
   "language": "python",
   "name": "conda-env-poif-py"
  },
  "language_info": {
   "codemirror_mode": {
    "name": "ipython",
    "version": 3
   },
   "file_extension": ".py",
   "mimetype": "text/x-python",
   "name": "python",
   "nbconvert_exporter": "python",
   "pygments_lexer": "ipython3",
   "version": "3.6.12"
  },
  "pycharm": {
   "stem_cell": {
    "cell_type": "raw",
    "source": [],
    "metadata": {
     "collapsed": false
    }
   }
  }
 },
 "nbformat": 4,
 "nbformat_minor": 4
}