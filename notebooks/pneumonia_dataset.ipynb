{
 "cells": [
  {
   "cell_type": "code",
   "execution_count": null,
   "metadata": {},
   "outputs": [],
   "source": [
    "from pathlib import Path\n",
    "from poif.dataset.base import Dataset\n",
    "from poif.dataset.object.output import classification_output\n",
    "from poif.dataset.operation.split.template import SplitByTemplate\n",
    "from poif.dataset.operation.transform.template import ClassificationByTemplate\n",
    "from poif.tagged_data.disk import DiskData\n",
    "import matplotlib.pyplot as plt"
   ]
  },
  {
   "cell_type": "code",
   "execution_count": null,
   "metadata": {
    "pycharm": {
     "name": "#%%\n"
    }
   },
   "outputs": [],
   "source": [
    "ds_loc = Path(\"/home/gilles/datasets/chest_xray\")\n",
    "tagged_data = DiskData.from_folder(ds_loc)\n",
    "\n",
    "template = \"{{subset}}/{{label}}/*.jpeg\"\n",
    "\n",
    "add_label = ClassificationByTemplate(template=template)\n",
    "split_into_subset = SplitByTemplate(template=template)\n",
    "\n",
    "operations = [split_into_subset, add_label]\n",
    "ds = Dataset(operations=operations, output_function=classification_output)\n",
    "ds.form(tagged_data)"
   ]
  },
  {
   "cell_type": "code",
   "execution_count": null,
   "metadata": {
    "pycharm": {
     "name": "#%%\n"
    }
   },
   "outputs": [],
   "source": [
    "plt.imshow(ds.train[0][0])"
   ]
  },
  {
   "cell_type": "code",
   "execution_count": null,
   "metadata": {},
   "outputs": [],
   "source": []
  }
 ],
 "metadata": {
  "kernelspec": {
   "display_name": "Python 3",
   "language": "python",
   "name": "python3"
  },
  "language_info": {
   "codemirror_mode": {
    "name": "ipython",
    "version": 3
   },
   "file_extension": ".py",
   "mimetype": "text/x-python",
   "name": "python",
   "nbconvert_exporter": "python",
   "pygments_lexer": "ipython3",
   "version": "3.6.12"
  },
  "pycharm": {
   "stem_cell": {
    "cell_type": "raw",
    "source": [],
    "metadata": {
     "collapsed": false
    }
   }
  }
 },
 "nbformat": 4,
 "nbformat_minor": 1
}