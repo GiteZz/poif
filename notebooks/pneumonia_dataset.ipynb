{
 "cells": [
  {
   "cell_type": "code",
   "execution_count": 1,
   "metadata": {},
   "outputs": [],
   "source": [
    "from pathlib import Path\n",
    "from poif.dataset.base import MultiDataset\n",
    "from poif.dataset.object.output import classification_output\n",
    "from poif.dataset.operation.split.template import SplitByTemplate\n",
    "from poif.dataset.operation.transform.template import ClassificationByTemplate\n",
    "from poif.tagged_data.disk import DiskData\n"
   ]
  },
  {
   "cell_type": "code",
   "execution_count": 2,
   "metadata": {
    "pycharm": {
     "name": "#%%\n"
    }
   },
   "outputs": [],
   "source": [
    "ds_loc = Path(\"/home/gilles/datasets/chest_xray\")\n",
    "tagged_data = DiskData.from_folder(ds_loc)\n",
    "\n",
    "template = \"{{subset}}/{{label}}/*.png\"\n",
    "\n",
    "add_label = ClassificationByTemplate(template=template)\n",
    "split_into_subset = SplitByTemplate(template=template)\n",
    "\n",
    "operations = [split_into_subset, add_label]\n",
    "ds = MultiDataset(operations=operations, output_function=classification_output)\n",
    "ds.form(tagged_data)"
   ]
  },
  {
   "cell_type": "code",
   "execution_count": null,
   "outputs": [],
   "source": [
    "ds.available_sub_datasets"
   ],
   "metadata": {
    "collapsed": false,
    "pycharm": {
     "name": "#%%\n"
    }
   }
  },
  {
   "cell_type": "code",
   "execution_count": 5,
   "metadata": {
    "pycharm": {
     "name": "#%%\n"
    }
   },
   "outputs": [
    {
     "data": {
      "text/plain": [
       "[]"
      ]
     },
     "execution_count": 5,
     "metadata": {},
     "output_type": "execute_result"
    }
   ],
   "source": []
  },
  {
   "cell_type": "code",
   "execution_count": null,
   "metadata": {},
   "outputs": [],
   "source": []
  }
 ],
 "metadata": {
  "kernelspec": {
   "display_name": "Python 3",
   "language": "python",
   "name": "python3"
  },
  "language_info": {
   "codemirror_mode": {
    "name": "ipython",
    "version": 3
   },
   "file_extension": ".py",
   "mimetype": "text/x-python",
   "name": "python",
   "nbconvert_exporter": "python",
   "pygments_lexer": "ipython3",
   "version": "3.6.12"
  }
 },
 "nbformat": 4,
 "nbformat_minor": 1
}