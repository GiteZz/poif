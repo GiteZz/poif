{
 "cells": [
  {
   "cell_type": "code",
   "execution_count": null,
   "metadata": {},
   "outputs": [],
   "source": [
    "from collections import defaultdict\n",
    "from poif.tests import get_img, get_temp_path\n",
    "from poif.utils import FileIterator, get_relative_path\n",
    "from pathlib import Path\n",
    "import cv2\n",
    "from tqdm import tqdm\n",
    "import pickle\n",
    "from dataclasses import dataclass"
   ]
  },
  {
   "cell_type": "code",
   "execution_count": null,
   "metadata": {},
   "outputs": [],
   "source": [
    "ds_path = Path('/home/gilles/datasets/pneumonia')"
   ]
  },
  {
   "cell_type": "code",
   "execution_count": null,
   "metadata": {},
   "outputs": [],
   "source": [
    "@dataclass\n",
    "class ImageSize:\n",
    "    pkl: int\n",
    "    jpg: int\n",
    "    png: int\n",
    "\n",
    "size_comparison = defaultdict(list)\n",
    "\n",
    "temp_dir = get_temp_path()\n",
    "test_img_sizes = [256, 384, 512, 640, 840]\n",
    "for img_size in test_img_sizes:\n",
    "    for img in tqdm(ds_path.rglob('*.jpeg'), desc=f'Image size: {img_size}'):\n",
    "        original_size_img = cv2.imread(str(img))\n",
    "\n",
    "        resized = cv2.resize(original_size_img, (img_size, img_size))\n",
    "\n",
    "        jpg_file = temp_dir / 'image.jpg'\n",
    "        png_file = temp_dir / 'image.png'\n",
    "        pickle_file = temp_dir / 'image.pkl'\n",
    "\n",
    "        cv2.imwrite(str(jpg_file), resized)\n",
    "        cv2.imwrite(str(png_file), resized)\n",
    "\n",
    "        with open(pickle_file, 'wb') as f:\n",
    "            pickle.dump(resized, f)\n",
    "\n",
    "        size_wrapper = ImageSize(\n",
    "            jpg = jpg_file.stat().st_size,\n",
    "            png = png_file.stat().st_size,\n",
    "            pkl = pickle_file.stat().st_size\n",
    "        )\n",
    "\n",
    "\n",
    "        size_comparison[img_size].append(size_wrapper)\n"
   ]
  },
  {
   "cell_type": "code",
   "execution_count": null,
   "metadata": {
    "pycharm": {
     "name": "#%%\n"
    }
   },
   "outputs": [],
   "source": [
    "import matplotlib.pyplot as plt\n",
    "import numpy as np\n",
    "\n",
    "fig, ax = plt.subplots()\n",
    "ax.grid(True)\n",
    "\n",
    "for img_size, comparison_tuples in size_comparison.items():\n",
    "    jpg_values = [comp_tuple.jpg for comp_tuple in comparison_tuples]\n",
    "    png_values = [comp_tuple.png for comp_tuple in comparison_tuples]\n",
    "    pkl_values = [comp_tuple.pkl for comp_tuple in comparison_tuples]\n",
    "\n",
    "    jpg_mean = np.mean(jpg_values)\n",
    "    png_mean = np.mean(png_values)\n",
    "    pkl_mean = np.mean(pkl_values)\n",
    "\n",
    "    pkl_ratio = pkl_mean / jpg_mean\n",
    "    png_ratio = png_mean / jpg_mean\n",
    "\n",
    "    ax.plot(img_size, pkl_ratio, linestyle='None', marker='^', color='green')\n",
    "    ax.plot(img_size, png_ratio, linestyle='None', marker='^', color='green')\n"
   ]
  },
  {
   "cell_type": "code",
   "execution_count": null,
   "metadata": {
    "pycharm": {
     "name": "#%%\n"
    }
   },
   "outputs": [],
   "source": []
  }
 ],
 "metadata": {
  "kernelspec": {
   "display_name": "Python [conda env:poif] *",
   "language": "python",
   "name": "conda-env-poif-py"
  },
  "language_info": {
   "codemirror_mode": {
    "name": "ipython",
    "version": 3
   },
   "file_extension": ".py",
   "mimetype": "text/x-python",
   "name": "python",
   "nbconvert_exporter": "python",
   "pygments_lexer": "ipython3",
   "version": "3.6.12"
  }
 },
 "nbformat": 4,
 "nbformat_minor": 4
}